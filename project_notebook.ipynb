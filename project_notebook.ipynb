{
 "cells": [
  {
   "cell_type": "code",
   "execution_count": null,
   "id": "e0cd3e2f",
   "metadata": {},
   "outputs": [],
   "source": [
    "import uproot\n",
    "import pandas as pd\n",
    "import matplotlib.pyplot as plt\n",
    "\n",
    "# Open the ROOT file (update the filename as needed)\n",
    "file = uproot.open(\"PhaseSpaceSimulation.root\")\n",
    "\n",
    "# Print the keys in the ROOT file to see what objects it contains:\n",
    "print(\"Keys in the ROOT file:\", file.keys())\n",
    "\n",
    "# For example, if the file contains a TTree called \"DecayTree\", you can access it:\n",
    "tree = file['PhaseSpaceTree;1']\n",
    "\n",
    "# List available branches in the tree:\n",
    "print(\"Branches in the tree:\")\n",
    "for var in tree.keys():\n",
    "    print(var)\n",
    "\n",
    "# Read selected branches into a pandas DataFrame:\n",
    "# Replace these branch names with correct ones per the corresponding LHCb dataset documentation.\n",
    "branches_to_load = list(tree.keys())  # adjust as necessary\n",
    "df = tree.arrays(branches_to_load, library=\"pd\")\n",
    "print(df.head())"
   ]
  },
  {
   "cell_type": "code",
   "execution_count": null,
   "id": "f44c6762",
   "metadata": {},
   "outputs": [],
   "source": [
    "data = df['H1_PX']\n",
    "\n",
    "# Create a histogram of the data using 30 bins\n",
    "plt.hist(data, bins=30, color='blue', edgecolor='black', alpha=0.7)\n",
    "\n",
    "# Label the axes and set the title\n",
    "plt.xlabel('H1_PX')\n",
    "plt.ylabel('Frequency')\n",
    "\n",
    "# Display the plot\n",
    "plt.show()"
   ]
  },
  {
   "cell_type": "code",
   "execution_count": null,
   "id": "3f1912ec",
   "metadata": {},
   "outputs": [],
   "source": [
    "def hist(var):\n",
    "    plt.hist(df[var], bins=30, color='blue', edgecolor='black', alpha=0.7)\n",
    "\n",
    "    # Label the axes and set the title\n",
    "    plt.xlabel(var)\n",
    "    plt.ylabel('Frequency')\n",
    "    \n",
    "    # Display the plot\n",
    "    plt.show()"
   ]
  },
  {
   "cell_type": "code",
   "execution_count": null,
   "id": "c24346a0",
   "metadata": {},
   "outputs": [],
   "source": [
    "df['H1_P'] = (df['H1_PX']**2 + df['H1_PY']**2 + df['H1_PZ']**2)**(1/2)\n",
    "\n",
    "plt.hist(df['H1_P'], bins=30, color='blue', edgecolor='black', alpha=0.7)\n",
    "\n",
    "# Label the axes and set the title\n",
    "plt.xlabel('H1 Magnitute of Momentum')\n",
    "plt.ylabel('Frequency')\n",
    "\n",
    "# Display the plot\n",
    "plt.show()"
   ]
  },
  {
   "cell_type": "code",
   "execution_count": null,
   "id": "e46d6123",
   "metadata": {},
   "outputs": [],
   "source": [
    "m_kaon = 493.677 #MeV\n",
    "df['H1_E'] = (df['H1_P']**2 + m_kaon**2)**(1/2)\n",
    "\n",
    "plt.hist(df['H1_E'], bins=30, color='blue', edgecolor='black', alpha=0.7)\n",
    "\n",
    "# Label the axes and set the title\n",
    "plt.xlabel('H1 Energy')\n",
    "plt.ylabel('Frequency')\n",
    "\n",
    "# Display the plot\n",
    "plt.show()"
   ]
  },
  {
   "cell_type": "code",
   "execution_count": null,
   "id": "7316ccaf",
   "metadata": {},
   "outputs": [],
   "source": [
    "df['H2_P'] = (df['H2_PX']**2 + df['H2_PY']**2 + df['H2_PZ']**2)**(1/2)\n",
    "df['H3_P'] = (df['H3_PX']**2 + df['H3_PY']**2 + df['H3_PZ']**2)**(1/2)\n",
    "df['H1_E'] = (df['H2_P']**2 + m_kaon**2)**(1/2)\n",
    "df['H1_E'] = (df['H3_P']**2 + m_kaon**2)**(1/2)"
   ]
  },
  {
   "cell_type": "code",
   "execution_count": null,
   "id": "79a39f81",
   "metadata": {},
   "outputs": [],
   "source": [
    "df['B_E'] = df['H1_E'] + df['H2_E'] + df['H3_E']\n",
    "df['B_PX'] = df['H1_PX'] + df['H2_PX'] + df['H3_PX']\n",
    "df['B_PY'] = df['H1_PY'] + df['H2_PY'] + df['H3_PY']\n",
    "df['B_PZ'] = df['H1_PZ'] + df['H2_PZ'] + df['H3_PZ']\n",
    "df['B_P'] = (df['B_PX']**2 + df['B_PY']**2 + df['B_PZ']**2)**(1/2)\n",
    "\n",
    "df['B_inv_mass'] = (df['B_E']**2 - df['B_P']**2)**(1/2)\n",
    "\n",
    "plt.hist(df['B_inv_mass'], bins=30, color='blue', edgecolor='black', alpha=0.7)\n",
    "\n",
    "# Label the axes and set the title\n",
    "plt.xlabel('B Meson Mass')\n",
    "plt.ylabel('Frequency')\n",
    "\n",
    "# Display the plot\n",
    "plt.show()"
   ]
  }
 ],
 "metadata": {
  "kernelspec": {
   "display_name": "base",
   "language": "python",
   "name": "python3"
  },
  "language_info": {
   "codemirror_mode": {
    "name": "ipython",
    "version": 3
   },
   "file_extension": ".py",
   "mimetype": "text/x-python",
   "name": "python",
   "nbconvert_exporter": "python",
   "pygments_lexer": "ipython3",
   "version": "3.12.3"
  }
 },
 "nbformat": 4,
 "nbformat_minor": 5
}
