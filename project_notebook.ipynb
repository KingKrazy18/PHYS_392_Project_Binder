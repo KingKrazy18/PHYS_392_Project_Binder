{
 "cells": [
  {
   "cell_type": "code",
   "execution_count": null,
   "id": "e0cd3e2f",
   "metadata": {},
   "outputs": [],
   "source": [
    "import uproot\n",
    "import pandas as pd\n",
    "import matplotlib.pyplot as plt\n",
    "\n",
    "# Open the ROOT file (update the filename as needed)\n",
    "file = uproot.open(\"PhaseSpaceSimulation.root\")\n",
    "\n",
    "# Print the keys in the ROOT file to see what objects it contains:\n",
    "print(\"Keys in the ROOT file:\", file.keys())\n",
    "\n",
    "# For example, if the file contains a TTree called \"DecayTree\", you can access it:\n",
    "tree = file['PhaseSpaceTree;1']\n",
    "\n",
    "# List available branches in the tree:\n",
    "print(\"Branches in the tree:\")\n",
    "for var in tree.keys():\n",
    "    print(var)\n",
    "\n",
    "# Read selected branches into a pandas DataFrame:\n",
    "# Replace these branch names with correct ones per the corresponding LHCb dataset documentation.\n",
    "branches_to_load = list(tree.keys())  # adjust as necessary\n",
    "df = tree.arrays(branches_to_load, library=\"pd\")\n",
    "print(df.head())"
   ]
  },
  {
   "cell_type": "code",
   "execution_count": null,
   "id": "f44c6762",
   "metadata": {},
   "outputs": [],
   "source": [
    "data = df['H1_PX']\n",
    "\n",
    "# Create a histogram of the data using 30 bins\n",
    "plt.hist(data, bins=30, color='blue', edgecolor='black', alpha=0.7)\n",
    "\n",
    "# Label the axes and set the title\n",
    "plt.xlabel('H1_PX')\n",
    "plt.ylabel('Frequency')\n",
    "\n",
    "# Display the plot\n",
    "plt.show()"
   ]
  },
  {
   "cell_type": "code",
   "execution_count": null,
   "id": "3f1912ec",
   "metadata": {},
   "outputs": [],
   "source": [
    "def hist(var, range=None):\n",
    "    plt.hist(df[var], bins=30, color='blue', edgecolor='black', alpha=0.7, range=range)\n",
    "\n",
    "    # Label the axes and set the title\n",
    "    plt.xlabel(var)\n",
    "    plt.ylabel('Frequency')\n",
    "    \n",
    "    # Display the plot\n",
    "    plt.show()"
   ]
  },
  {
   "cell_type": "code",
   "execution_count": null,
   "id": "c24346a0",
   "metadata": {},
   "outputs": [],
   "source": [
    "df['H1_P'] = (df['H1_PX']**2 + df['H1_PY']**2 + df['H1_PZ']**2)**(1/2)\n",
    "\n",
    "plt.hist(df['H1_P'], bins=30, color='blue', edgecolor='black', alpha=0.7)\n",
    "\n",
    "# Label the axes and set the title\n",
    "plt.xlabel('H1 Magnitute of Momentum')\n",
    "plt.ylabel('Frequency')\n",
    "\n",
    "# Display the plot\n",
    "plt.show()"
   ]
  },
  {
   "cell_type": "code",
   "execution_count": null,
   "id": "e46d6123",
   "metadata": {},
   "outputs": [],
   "source": [
    "m_kaon = 493.677 #MeV\n",
    "df['H1_E'] = (df['H1_P']**2 + m_kaon**2)**(1/2)\n",
    "\n",
    "plt.hist(df['H1_E'], bins=30, color='blue', edgecolor='black', alpha=0.7)\n",
    "\n",
    "# Label the axes and set the title\n",
    "plt.xlabel('H1 Energy')\n",
    "plt.ylabel('Frequency')\n",
    "\n",
    "# Display the plot\n",
    "plt.show()"
   ]
  },
  {
   "cell_type": "code",
   "execution_count": 1,
   "id": "7316ccaf",
   "metadata": {},
   "outputs": [
    {
     "ename": "NameError",
     "evalue": "name 'df' is not defined",
     "output_type": "error",
     "traceback": [
      "\u001b[1;31m---------------------------------------------------------------------------\u001b[0m",
      "\u001b[1;31mNameError\u001b[0m                                 Traceback (most recent call last)",
      "Cell \u001b[1;32mIn[1], line 1\u001b[0m\n\u001b[1;32m----> 1\u001b[0m df[\u001b[38;5;124m'\u001b[39m\u001b[38;5;124mH2_P\u001b[39m\u001b[38;5;124m'\u001b[39m] \u001b[38;5;241m=\u001b[39m (df[\u001b[38;5;124m'\u001b[39m\u001b[38;5;124mH2_PX\u001b[39m\u001b[38;5;124m'\u001b[39m]\u001b[38;5;241m*\u001b[39m\u001b[38;5;241m*\u001b[39m\u001b[38;5;241m2\u001b[39m \u001b[38;5;241m+\u001b[39m df[\u001b[38;5;124m'\u001b[39m\u001b[38;5;124mH2_PY\u001b[39m\u001b[38;5;124m'\u001b[39m]\u001b[38;5;241m*\u001b[39m\u001b[38;5;241m*\u001b[39m\u001b[38;5;241m2\u001b[39m \u001b[38;5;241m+\u001b[39m df[\u001b[38;5;124m'\u001b[39m\u001b[38;5;124mH2_PZ\u001b[39m\u001b[38;5;124m'\u001b[39m]\u001b[38;5;241m*\u001b[39m\u001b[38;5;241m*\u001b[39m\u001b[38;5;241m2\u001b[39m)\u001b[38;5;241m*\u001b[39m\u001b[38;5;241m*\u001b[39m(\u001b[38;5;241m1\u001b[39m\u001b[38;5;241m/\u001b[39m\u001b[38;5;241m2\u001b[39m)\n\u001b[0;32m      2\u001b[0m df[\u001b[38;5;124m'\u001b[39m\u001b[38;5;124mH3_P\u001b[39m\u001b[38;5;124m'\u001b[39m] \u001b[38;5;241m=\u001b[39m (df[\u001b[38;5;124m'\u001b[39m\u001b[38;5;124mH3_PX\u001b[39m\u001b[38;5;124m'\u001b[39m]\u001b[38;5;241m*\u001b[39m\u001b[38;5;241m*\u001b[39m\u001b[38;5;241m2\u001b[39m \u001b[38;5;241m+\u001b[39m df[\u001b[38;5;124m'\u001b[39m\u001b[38;5;124mH3_PY\u001b[39m\u001b[38;5;124m'\u001b[39m]\u001b[38;5;241m*\u001b[39m\u001b[38;5;241m*\u001b[39m\u001b[38;5;241m2\u001b[39m \u001b[38;5;241m+\u001b[39m df[\u001b[38;5;124m'\u001b[39m\u001b[38;5;124mH3_PZ\u001b[39m\u001b[38;5;124m'\u001b[39m]\u001b[38;5;241m*\u001b[39m\u001b[38;5;241m*\u001b[39m\u001b[38;5;241m2\u001b[39m)\u001b[38;5;241m*\u001b[39m\u001b[38;5;241m*\u001b[39m(\u001b[38;5;241m1\u001b[39m\u001b[38;5;241m/\u001b[39m\u001b[38;5;241m2\u001b[39m)\n\u001b[0;32m      3\u001b[0m df[\u001b[38;5;124m'\u001b[39m\u001b[38;5;124mH2_E\u001b[39m\u001b[38;5;124m'\u001b[39m] \u001b[38;5;241m=\u001b[39m (df[\u001b[38;5;124m'\u001b[39m\u001b[38;5;124mH2_P\u001b[39m\u001b[38;5;124m'\u001b[39m]\u001b[38;5;241m*\u001b[39m\u001b[38;5;241m*\u001b[39m\u001b[38;5;241m2\u001b[39m \u001b[38;5;241m+\u001b[39m m_kaon\u001b[38;5;241m*\u001b[39m\u001b[38;5;241m*\u001b[39m\u001b[38;5;241m2\u001b[39m)\u001b[38;5;241m*\u001b[39m\u001b[38;5;241m*\u001b[39m(\u001b[38;5;241m1\u001b[39m\u001b[38;5;241m/\u001b[39m\u001b[38;5;241m2\u001b[39m)\n",
      "\u001b[1;31mNameError\u001b[0m: name 'df' is not defined"
     ]
    }
   ],
   "source": [
    "df['H2_P'] = (df['H2_PX']**2 + df['H2_PY']**2 + df['H2_PZ']**2)**(1/2)\n",
    "df['H3_P'] = (df['H3_PX']**2 + df['H3_PY']**2 + df['H3_PZ']**2)**(1/2)\n",
    "df['H2_E'] = (df['H2_P']**2 + m_kaon**2)**(1/2)\n",
    "df['H3_E'] = (df['H3_P']**2 + m_kaon**2)**(1/2)"
   ]
  },
  {
   "cell_type": "code",
   "execution_count": null,
   "id": "79a39f81",
   "metadata": {},
   "outputs": [],
   "source": [
    "df['B_E'] = df['H1_E'] + df['H2_E'] + df['H3_E']\n",
    "df['B_PX'] = df['H1_PX'] + df['H2_PX'] + df['H3_PX']\n",
    "df['B_PY'] = df['H1_PY'] + df['H2_PY'] + df['H3_PY']\n",
    "df['B_PZ'] = df['H1_PZ'] + df['H2_PZ'] + df['H3_PZ']\n",
    "df['B_P'] = (df['B_PX']**2 + df['B_PY']**2 + df['B_PZ']**2)**(1/2)\n",
    "\n",
    "df['B_inv_mass'] = (df['B_E']**2 - df['B_P']**2)**(1/2)\n",
    "\n",
    "hist('B_inv_mass')"
   ]
  },
  {
   "cell_type": "code",
   "execution_count": null,
   "id": "6975629f",
   "metadata": {},
   "outputs": [],
   "source": [
    "def no_muons_cut(data):\n",
    "    for index, event in data.iterrows():\n",
    "        if event['H1_isMuon'] == 1:\n",
    "            data.drop(index)\n",
    "        if event['H2_isMuon'] == 1:\n",
    "            data.drop(index)\n",
    "        if event['H3_isMuon'] == 1:\n",
    "            data.drop(index)\n",
    "    return None\n",
    "\n",
    "def low_prob_pi_cut(data):\n",
    "    for index, event in data.iterrows():\n",
    "        if event['H1_ProbPi'] >= 0.5:\n",
    "            data.drop(index)\n",
    "    return None\n",
    "\n",
    "def high_prob_k_cut(data):\n",
    "    for index, event in data.iterrows():\n",
    "        if event['H1_ProbK'] < 0.5:\n",
    "            data.drop(index)\n",
    "    return None"
   ]
  },
  {
   "cell_type": "code",
   "execution_count": null,
   "id": "8a0c957d",
   "metadata": {},
   "outputs": [],
   "source": [
    "# Open the ROOT file (update the filename as needed)\n",
    "file1 = uproot.open('B2HHH_MagnetUp.root')\n",
    "file2 = uproot.open('B2HHH_MagnetDown.root')\n",
    "\n",
    "# Print the keys in the ROOT file to see what objects it contains:\n",
    "print(\"Keys in the ROOT files:\", file1.keys(), file2.keys())"
   ]
  },
  {
   "cell_type": "code",
   "execution_count": null,
   "id": "74b5ff02",
   "metadata": {},
   "outputs": [],
   "source": [
    "# Applying cuts to the simulated data\n",
    "print('Data before:', df.shape)\n",
    "df1 = no_muons_cut(df)\n",
    "print('Data after:', df1.shape)\n",
    "\n",
    "print('\\nData before:', df1.shape)\n",
    "df2 = low_prob_pi_cut(df1)\n",
    "print('Data after:', df2.shape)\n",
    "\n",
    "print('\\nData before:', df2.shape)\n",
    "df3 = low_prob_k_cut(df2)\n",
    "print('Data after:', df3.shape)"
   ]
  }
 ],
 "metadata": {
  "kernelspec": {
   "display_name": "base",
   "language": "python",
   "name": "python3"
  },
  "language_info": {
   "codemirror_mode": {
    "name": "ipython",
    "version": 3
   },
   "file_extension": ".py",
   "mimetype": "text/x-python",
   "name": "python",
   "nbconvert_exporter": "python",
   "pygments_lexer": "ipython3",
   "version": "3.12.3"
  }
 },
 "nbformat": 4,
 "nbformat_minor": 5
}
